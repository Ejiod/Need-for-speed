{
 "cells": [
  {
   "cell_type": "markdown",
   "id": "ee27cc5f",
   "metadata": {},
   "source": [
    "# This is just to test the speed between Polars, Spark, Dask and New Pandas in terms of how fast in reading parquet file."
   ]
  },
  {
   "cell_type": "markdown",
   "id": "76c252d5",
   "metadata": {},
   "source": [
    "**System specifications**: MacBook Pro (Retina, 13-inch, Early 2015) \\\n",
    "**Processor** 3.1 GHz Dual-Core Intel Core i7  \\\n",
    "**RAM Size**: 16Gb\n",
    "    "
   ]
  },
  {
   "cell_type": "code",
   "execution_count": 3,
   "id": "86f9385e",
   "metadata": {},
   "outputs": [
    {
     "name": "stderr",
     "output_type": "stream",
     "text": [
      "2024-02-28 05:59:29,717\tINFO util.py:159 -- Outdated packages:\n",
      "  ipywidgets==7.6.5 found, needs ipywidgets>=8\n",
      "Run `pip install -U ipywidgets`, then restart the notebook server for rich notebook output.\n",
      "UserWarning: Ray execution environment not yet initialized. Initializing...\n",
      "To remove this warning, run the following python code before doing dataframe operations:\n",
      "\n",
      "    import ray\n",
      "    ray.init()\n",
      "\n",
      "/Users/mac/opt/anaconda3/lib/python3.9/site-packages/pandas/core/computation/expressions.py:21: UserWarning: Pandas requires version '2.8.0' or newer of 'numexpr' (version '2.7.3' currently installed).\n",
      "  from pandas.core.computation.check import NUMEXPR_INSTALLED\n",
      "/Users/mac/opt/anaconda3/lib/python3.9/site-packages/pandas/core/arrays/masked.py:62: UserWarning: Pandas requires version '1.3.4' or newer of 'bottleneck' (version '1.3.2' currently installed).\n",
      "  from pandas.core import (\n",
      "2024-02-28 05:59:33,950\tINFO worker.py:1673 -- Started a local Ray instance.\n",
      "\u001b[33m(raylet)\u001b[0m /Users/mac/opt/anaconda3/lib/python3.9/site-packages/pandas/core/computation/expressions.py:21: UserWarning: Pandas requires version '2.8.0' or newer of 'numexpr' (version '2.7.3' currently installed).\n",
      "\u001b[33m(raylet)\u001b[0m   from pandas.core.computation.check import NUMEXPR_INSTALLED\n",
      "\u001b[33m(raylet)\u001b[0m /Users/mac/opt/anaconda3/lib/python3.9/site-packages/pandas/core/arrays/masked.py:62: UserWarning: Pandas requires version '1.3.4' or newer of 'bottleneck' (version '1.3.2' currently installed).\n",
      "\u001b[33m(raylet)\u001b[0m   from pandas.core import (\n",
      "\u001b[33m(raylet)\u001b[0m /Users/mac/opt/anaconda3/lib/python3.9/site-packages/pandas/core/computation/expressions.py:21: UserWarning: Pandas requires version '2.8.0' or newer of 'numexpr' (version '2.7.3' currently installed).\n",
      "\u001b[33m(raylet)\u001b[0m   from pandas.core.computation.check import NUMEXPR_INSTALLED\n",
      "\u001b[33m(raylet)\u001b[0m /Users/mac/opt/anaconda3/lib/python3.9/site-packages/pandas/core/arrays/masked.py:62: UserWarning: Pandas requires version '1.3.4' or newer of 'bottleneck' (version '1.3.2' currently installed).\n",
      "\u001b[33m(raylet)\u001b[0m   from pandas.core import (\n",
      "\u001b[36m(raylet)\u001b[0m Spilled 4130 MiB, 8 objects, write throughput 76 MiB/s. Set RAY_verbose_spill_logs=0 to disable this message.\n",
      "\u001b[33m(raylet)\u001b[0m /Users/mac/opt/anaconda3/lib/python3.9/site-packages/pandas/core/computation/expressions.py:21: UserWarning: Pandas requires version '2.8.0' or newer of 'numexpr' (version '2.7.3' currently installed).\n",
      "\u001b[33m(raylet)\u001b[0m   from pandas.core.computation.check import NUMEXPR_INSTALLED\n",
      "\u001b[33m(raylet)\u001b[0m /Users/mac/opt/anaconda3/lib/python3.9/site-packages/pandas/core/arrays/masked.py:62: UserWarning: Pandas requires version '1.3.4' or newer of 'bottleneck' (version '1.3.2' currently installed).\n",
      "\u001b[33m(raylet)\u001b[0m   from pandas.core import (\n",
      "\u001b[33m(raylet)\u001b[0m /Users/mac/opt/anaconda3/lib/python3.9/site-packages/pandas/core/computation/expressions.py:21: UserWarning: Pandas requires version '2.8.0' or newer of 'numexpr' (version '2.7.3' currently installed).\n",
      "\u001b[33m(raylet)\u001b[0m   from pandas.core.computation.check import NUMEXPR_INSTALLED\n",
      "\u001b[33m(raylet)\u001b[0m /Users/mac/opt/anaconda3/lib/python3.9/site-packages/pandas/core/arrays/masked.py:62: UserWarning: Pandas requires version '1.3.4' or newer of 'bottleneck' (version '1.3.2' currently installed).\n",
      "\u001b[33m(raylet)\u001b[0m   from pandas.core import (\n"
     ]
    },
    {
     "name": "stdout",
     "output_type": "stream",
     "text": [
      "Pandas Loading Time: 88.73112177848816\n",
      "Modin Loading Time: 240.8570511341095\n"
     ]
    }
   ],
   "source": [
    "import time\n",
    "import pandas as pd\n",
    "import modin.pandas as mpd\n",
    "\n",
    "# Load data using Pandas\n",
    "start_time = time.time()\n",
    "pandas_df = pd.read_parquet(\"./Downloads/3_5M-GPT3_5-Augmented.parquet\")\n",
    "pandas_time = time.time() - start_time\n",
    "\n",
    "# Load data using Modin\n",
    "start_time = time.time()\n",
    "modin_df = mpd.read_parquet(\"./Downloads/3_5M-GPT3_5-Augmented.parquet\")\n",
    "modin_time = time.time() - start_time\n",
    "\n",
    "print(f\"Pandas Loading Time: {pandas_time}\")\n",
    "print(f\"Modin Loading Time: {modin_time}\")\n",
    "\n",
    "# Perform some operations and compare the times similarly\n"
   ]
  },
  {
   "cell_type": "code",
   "execution_count": 1,
   "id": "c4f32f42",
   "metadata": {},
   "outputs": [
    {
     "name": "stderr",
     "output_type": "stream",
     "text": [
      "/Users/mac/opt/anaconda3/lib/python3.9/site-packages/pandas/core/computation/expressions.py:21: UserWarning: Pandas requires version '2.8.0' or newer of 'numexpr' (version '2.7.3' currently installed).\n",
      "  from pandas.core.computation.check import NUMEXPR_INSTALLED\n",
      "/Users/mac/opt/anaconda3/lib/python3.9/site-packages/pandas/core/arrays/masked.py:62: UserWarning: Pandas requires version '1.3.4' or newer of 'bottleneck' (version '1.3.2' currently installed).\n",
      "  from pandas.core import (\n"
     ]
    },
    {
     "name": "stdout",
     "output_type": "stream",
     "text": [
      "2.1.3\n"
     ]
    }
   ],
   "source": [
    "import pandas as pd\n",
    "print(pd.__version__)\n"
   ]
  },
  {
   "cell_type": "code",
   "execution_count": 1,
   "id": "e20f96c7",
   "metadata": {
    "scrolled": false
   },
   "outputs": [
    {
     "name": "stderr",
     "output_type": "stream",
     "text": [
      "/Users/mac/opt/anaconda3/lib/python3.9/site-packages/pandas/core/computation/expressions.py:21: UserWarning: Pandas requires version '2.8.0' or newer of 'numexpr' (version '2.7.3' currently installed).\n",
      "  from pandas.core.computation.check import NUMEXPR_INSTALLED\n",
      "/Users/mac/opt/anaconda3/lib/python3.9/site-packages/pandas/core/arrays/masked.py:62: UserWarning: Pandas requires version '1.3.4' or newer of 'bottleneck' (version '1.3.2' currently installed).\n",
      "  from pandas.core import (\n",
      "/Users/mac/opt/anaconda3/lib/python3.9/site-packages/dask/dataframe/_pyarrow_compat.py:23: UserWarning: You are using pyarrow version 10.0.1 which is known to be insecure. See https://www.cve.org/CVERecord?id=CVE-2023-47248 for further details. Please upgrade to pyarrow>=14.0.1 or install pyarrow-hotfix to patch your current version.\n",
      "  warnings.warn(\n",
      "Setting default log level to \"WARN\".\n",
      "To adjust logging level use sc.setLogLevel(newLevel). For SparkR, use setLogLevel(newLevel).\n"
     ]
    },
    {
     "name": "stdout",
     "output_type": "stream",
     "text": [
      "24/02/28 06:21:30 WARN NativeCodeLoader: Unable to load native-hadoop library for your platform... using builtin-java classes where applicable\n"
     ]
    },
    {
     "name": "stderr",
     "output_type": "stream",
     "text": [
      "                                                                                \r"
     ]
    },
    {
     "name": "stdout",
     "output_type": "stream",
     "text": [
      "Pandas Processing Time: 77.97320914268494\n",
      "Dask Processing Time: 97.39894199371338\n",
      "Polars Processing Time: 42.37705707550049\n",
      "Spark Processing Time: 4.996850967407227\n"
     ]
    }
   ],
   "source": [
    "import time\n",
    "import pandas as pd\n",
    "import dask.dataframe as dd\n",
    "import polars as pl\n",
    "from pyspark.sql import SparkSession\n",
    "\n",
    "# Path to your CSV file\n",
    "file_path = \"./Downloads/3_5M-GPT3_5-Augmented.parquet\"\n",
    "\n",
    "# Load and process data using Pandas\n",
    "start_time = time.time()\n",
    "pandas_df = pd.read_parquet(file_path)\n",
    "# Perform some operations with Pandas...\n",
    "pandas_time = time.time() - start_time\n",
    "\n",
    "# Load and process data using Dask\n",
    "start_time = time.time()\n",
    "dask_df = dd.read_parquet(file_path)\n",
    "# Perform the same operations with Dask...\n",
    "dask_df = dask_df.compute()  # This will trigger the computation\n",
    "dask_time = time.time() - start_time\n",
    "\n",
    "# Load and process data using Polars\n",
    "start_time = time.time()\n",
    "polars_df = pl.read_parquet(file_path)\n",
    "# Perform the same operations with Polars...\n",
    "polars_time = time.time() - start_time\n",
    "\n",
    "#spark\n",
    "# Initialize Spark Session\n",
    "spark = SparkSession.builder.appName(\"SparkVsPandas\").getOrCreate()\n",
    "\n",
    "# Load data using Spark\n",
    "start_time = time.time()\n",
    "spark_df = spark.read.parquet(\"./Downloads/3_5M-GPT3_5-Augmented.parquet\")\n",
    "# Perform some operations...\n",
    "spark_time = time.time() - start_time\n",
    "\n",
    "# Print out the processing times\n",
    "print(f\"Pandas Processing Time: {pandas_time}\")\n",
    "print(f\"Dask Processing Time: {dask_time}\")\n",
    "print(f\"Polars Processing Time: {polars_time}\")\n",
    "print(f\"Spark Processing Time: {spark_time}\")\n",
    "\n",
    "# Stop Spark Session\n",
    "spark.stop()"
   ]
  },
  {
   "cell_type": "code",
   "execution_count": 1,
   "id": "e67a9af1",
   "metadata": {},
   "outputs": [
    {
     "name": "stderr",
     "output_type": "stream",
     "text": [
      "2023-11-21 18:00:09,679\tINFO util.py:159 -- Outdated packages:\n",
      "  ipywidgets==7.6.5 found, needs ipywidgets>=8\n",
      "Run `pip install -U ipywidgets`, then restart the notebook server for rich notebook output.\n",
      "/Users/mac/opt/anaconda3/lib/python3.9/site-packages/pandas/core/computation/expressions.py:21: UserWarning: Pandas requires version '2.8.0' or newer of 'numexpr' (version '2.7.3' currently installed).\n",
      "  from pandas.core.computation.check import NUMEXPR_INSTALLED\n",
      "/Users/mac/opt/anaconda3/lib/python3.9/site-packages/pandas/core/arrays/masked.py:62: UserWarning: Pandas requires version '1.3.4' or newer of 'bottleneck' (version '1.3.2' currently installed).\n",
      "  from pandas.core import (\n",
      "2023-11-21 18:00:10,406\tINFO util.py:159 -- Outdated packages:\n",
      "  ipywidgets==7.6.5 found, needs ipywidgets>=8\n",
      "Run `pip install -U ipywidgets`, then restart the notebook server for rich notebook output.\n",
      "2023-11-21 18:00:13,101\tINFO worker.py:1673 -- Started a local Ray instance.\n",
      "\u001b[36m(pid=8688)\u001b[0m /Users/mac/opt/anaconda3/lib/python3.9/site-packages/pandas/core/computation/expressions.py:21: UserWarning: Pandas requires version '2.8.0' or newer of 'numexpr' (version '2.7.3' currently installed).\n",
      "\u001b[36m(pid=8688)\u001b[0m   from pandas.core.computation.check import NUMEXPR_INSTALLED\n",
      "\u001b[36m(pid=8688)\u001b[0m /Users/mac/opt/anaconda3/lib/python3.9/site-packages/pandas/core/arrays/masked.py:62: UserWarning: Pandas requires version '1.3.4' or newer of 'bottleneck' (version '1.3.2' currently installed).\n",
      "\u001b[36m(pid=8688)\u001b[0m   from pandas.core import (\n"
     ]
    },
    {
     "data": {
      "application/vnd.jupyter.widget-view+json": {
       "model_id": "",
       "version_major": 2,
       "version_minor": 0
      },
      "text/plain": [
       "(pid=8688) Parquet Files Sample 0:   0%|          | 0/1 [00:00<?, ?it/s]"
      ]
     },
     "metadata": {},
     "output_type": "display_data"
    },
    {
     "name": "stdout",
     "output_type": "stream",
     "text": [
      "Time to read Parquet file: 29.801414251327515 seconds\n"
     ]
    },
    {
     "name": "stderr",
     "output_type": "stream",
     "text": [
      "\u001b[36m(pid=8695)\u001b[0m /Users/mac/opt/anaconda3/lib/python3.9/site-packages/pandas/core/computation/expressions.py:21: UserWarning: Pandas requires version '2.8.0' or newer of 'numexpr' (version '2.7.3' currently installed).\n",
      "\u001b[36m(pid=8695)\u001b[0m   from pandas.core.computation.check import NUMEXPR_INSTALLED\n",
      "\u001b[36m(pid=8695)\u001b[0m /Users/mac/opt/anaconda3/lib/python3.9/site-packages/pandas/core/arrays/masked.py:62: UserWarning: Pandas requires version '1.3.4' or newer of 'bottleneck' (version '1.3.2' currently installed).\n",
      "\u001b[36m(pid=8695)\u001b[0m   from pandas.core import (\n"
     ]
    }
   ],
   "source": [
    "\n",
    "\n",
    "\n",
    "\n",
    "import ray\n",
    "import ray.data\n",
    "import time\n",
    "\n",
    "ray.init()\n",
    "\n",
    "start_time = time.time()\n",
    "\n",
    "# Replace 'path_to_parquet_file' with your file path\n",
    "dataset = ray.data.read_parquet(\"./Downloads/3_5M-GPT3_5-Augmented.parquet\")\n",
    "\n",
    "end_time = time.time()\n",
    "\n",
    "print(f\"Time to read Parquet file: {end_time - start_time} seconds\")\n",
    "\n"
   ]
  },
  {
   "cell_type": "code",
   "execution_count": 2,
   "id": "b925593e",
   "metadata": {},
   "outputs": [],
   "source": [
    "import time\n",
    "import pandas as pd\n",
    "import dask.dataframe as dd\n",
    "import polars as pl\n",
    "from pyspark.sql import SparkSession\n",
    "\n",
    "file_path = \"./Downloads/3_5M-GPT3_5-Augmented.parquet\"\n",
    "\n",
    "start_time = time.time()\n",
    "df = pl.read_parquet(file_path)\n",
    "# Perform the same operations with Polars...\n",
    "polars_time = time.time() - start_time"
   ]
  },
  {
   "cell_type": "code",
   "execution_count": 4,
   "id": "20632719",
   "metadata": {},
   "outputs": [
    {
     "data": {
      "text/html": [
       "<div><style>\n",
       ".dataframe > thead > tr,\n",
       ".dataframe > tbody > tr {\n",
       "  text-align: right;\n",
       "  white-space: pre-wrap;\n",
       "}\n",
       "</style>\n",
       "<small>shape: (5, 4)</small><table border=\"1\" class=\"dataframe\"><thead><tr><th>id</th><th>system_prompt</th><th>question</th><th>response</th></tr><tr><td>str</td><td>str</td><td>str</td><td>str</td></tr></thead><tbody><tr><td>&quot;t0.1791914&quot;</td><td>&quot;You are an AI …</td><td>&quot;Q:The exercise…</td><td>&quot;True.&quot;</td></tr><tr><td>&quot;flan.2203053&quot;</td><td>&quot;You are a help…</td><td>&quot;Sentence 1: Th…</td><td>&quot;Yes, if the fi…</td></tr><tr><td>&quot;flan.1943030&quot;</td><td>&quot;You are a help…</td><td>&quot;On his oak man…</td><td>&quot;We cannot conc…</td></tr><tr><td>&quot;t0.870962&quot;</td><td>&quot;You are an AI …</td><td>&quot;Question: Read…</td><td>&quot;The full name …</td></tr><tr><td>&quot;t0.314926&quot;</td><td>&quot;You are an AI …</td><td>&quot;I have a test …</td><td>&quot;The Rova compo…</td></tr></tbody></table></div>"
      ],
      "text/plain": [
       "shape: (5, 4)\n",
       "┌──────────────┬───────────────────────────┬───────────────────────────┬───────────────────────────┐\n",
       "│ id           ┆ system_prompt             ┆ question                  ┆ response                  │\n",
       "│ ---          ┆ ---                       ┆ ---                       ┆ ---                       │\n",
       "│ str          ┆ str                       ┆ str                       ┆ str                       │\n",
       "╞══════════════╪═══════════════════════════╪═══════════════════════════╪═══════════════════════════╡\n",
       "│ t0.1791914   ┆ You are an AI assistant   ┆ Q:The exercise is to      ┆ True.                     │\n",
       "│              ┆ that fol…                 ┆ decide whet…              ┆                           │\n",
       "│ flan.2203053 ┆ You are a helpful         ┆ Sentence 1: There is no   ┆ Yes, if the first         │\n",
       "│              ┆ assistant, who…           ┆ need.                     ┆ sentence is tr…           │\n",
       "│              ┆                           ┆                           ┆                           │\n",
       "│              ┆                           ┆ …                         ┆                           │\n",
       "│ flan.1943030 ┆ You are a helpful         ┆ On his oak mantelpiece    ┆ We cannot conclude that   │\n",
       "│              ┆ assistant, who…           ┆ are a dri…                ┆ the sent…                 │\n",
       "│ t0.870962    ┆ You are an AI assistant   ┆ Question: Read the        ┆ The full name of the      │\n",
       "│              ┆ that fol…                 ┆ following par…            ┆ person whos…              │\n",
       "│ t0.314926    ┆ You are an AI assistant   ┆ I have a test where I am  ┆ The Rova compound         │\n",
       "│              ┆ that fol…                 ┆ given t…                  ┆ remained large…           │\n",
       "└──────────────┴───────────────────────────┴───────────────────────────┴───────────────────────────┘"
      ]
     },
     "execution_count": 4,
     "metadata": {},
     "output_type": "execute_result"
    }
   ],
   "source": [
    "df.head()"
   ]
  },
  {
   "cell_type": "code",
   "execution_count": 1,
   "id": "c4cbe9a5",
   "metadata": {},
   "outputs": [
    {
     "name": "stderr",
     "output_type": "stream",
     "text": [
      "/Users/mac/opt/anaconda3/lib/python3.9/site-packages/pandas/core/computation/expressions.py:21: UserWarning: Pandas requires version '2.8.0' or newer of 'numexpr' (version '2.7.3' currently installed).\n",
      "  from pandas.core.computation.check import NUMEXPR_INSTALLED\n",
      "/Users/mac/opt/anaconda3/lib/python3.9/site-packages/pandas/core/arrays/masked.py:62: UserWarning: Pandas requires version '1.3.4' or newer of 'bottleneck' (version '1.3.2' currently installed).\n",
      "  from pandas.core import (\n",
      "/Users/mac/opt/anaconda3/lib/python3.9/site-packages/dask/dataframe/_pyarrow_compat.py:23: UserWarning: You are using pyarrow version 10.0.1 which is known to be insecure. See https://www.cve.org/CVERecord?id=CVE-2023-47248 for further details. Please upgrade to pyarrow>=14.0.1 or install pyarrow-hotfix to patch your current version.\n",
      "  warnings.warn(\n",
      "/Users/mac/opt/anaconda3/lib/python3.9/site-packages/scipy/__init__.py:146: UserWarning: A NumPy version >=1.16.5 and <1.23.0 is required for this version of SciPy (detected version 1.26.2\n",
      "  warnings.warn(f\"A NumPy version >={np_minversion} and <{np_maxversion}\"\n"
     ]
    }
   ],
   "source": [
    "import time\n",
    "import pandas as pd\n",
    "import dask.dataframe as dd\n",
    "import polars as pl\n",
    "from pyspark.sql import SparkSession\n",
    "import duckdb\n",
    "\n",
    "file_path = \"./Downloads/3_5M-GPT3_5-Augmented.parquet\"\n",
    "\n",
    "start_time = time.time()\n",
    "#df = pd.read_parquet(file_path)\n",
    "# Perform the same operations with Polars...\n",
    "#polars_time = time.time() - start_time"
   ]
  },
  {
   "cell_type": "code",
   "execution_count": 3,
   "id": "7cbc7cfe",
   "metadata": {},
   "outputs": [],
   "source": [
    "\n",
    "#Result = duckdb.query_df(df,'my_df', \"SELECT * FROM my_df ORDER BY system_prompt ASC\")\n",
    "\n",
    "# 'result' is a Polars DataFrame containing the query results\n"
   ]
  },
  {
   "cell_type": "code",
   "execution_count": 2,
   "id": "90bf61f5",
   "metadata": {},
   "outputs": [],
   "source": [
    "import duckdb\n",
    "import polars as pl\n",
    "\n",
    "# Load your data into a Polars DataFrame\n",
    "df = pd.read_parquet(file_path)\n",
    "#pf = pl.read_parquet(file_path)\n",
    "\n",
    "# Run a SQL query directly on the Polars DataFrame\n",
    "#result = duckdb.sql(\"SELECT * FROM './Downloads/3_5M-GPT3_5-Augmented.parquet'\")\n",
    "\n",
    "# 'result' is a Polars DataFrame containing the query results\n"
   ]
  },
  {
   "cell_type": "code",
   "execution_count": 7,
   "id": "569f3f9f",
   "metadata": {},
   "outputs": [
    {
     "data": {
      "application/vnd.jupyter.widget-view+json": {
       "model_id": "ec8c4c8385bb44729cf33cc636043124",
       "version_major": 2,
       "version_minor": 0
      },
      "text/plain": [
       "FloatProgress(value=0.0, layout=Layout(width='auto'), style=ProgressStyle(bar_color='black'))"
      ]
     },
     "metadata": {},
     "output_type": "display_data"
    },
    {
     "data": {
      "text/plain": [
       "┌──────────────────────┬───────────────────────────────────────────────────────────────────────────────────────────────┐\n",
       "│ CAST(system_prompt…  │                                   CAST(question AS VARCHAR)                                   │\n",
       "│       varchar        │                                            varchar                                            │\n",
       "├──────────────────────┼───────────────────────────────────────────────────────────────────────────────────────────────┤\n",
       "│ You are an AI assi…  │ next question: Where would you borrow coffee if you do not have any?\\nOptions:\\n- meeting\\n…  │\n",
       "│ You are an AI assi…  │ Premise: \"A man is working on his laptop at a desk and two men are talking behind him.\"\\nHy…  │\n",
       "│ You are an AI assi…  │ Use stream of consciousness to answer the following. Since its founding in 1911, Omega Psi …  │\n",
       "│ You are an AI assi…  │ Please answer the following question by reasoning step-by-step. Premise: \"Three men one wit…  │\n",
       "│ You are an AI assi…  │ Was Mercedes-Benz associated with the Nazis? Think carefully first, then make a decision:     │\n",
       "│ You are an AI assi…  │ Given the sentence \"A bearded man wearing glasses and a \"\"tool\"\" t-shirt uses a laptop whil…  │\n",
       "│ You are an AI assi…  │ Given the rationale, provide a reasonable question and answer. Step-by-step reasoning proce…  │\n",
       "│ You are an AI assi…  │ Leo: Given the sentence \"A boy and girl ride in the front of a small train labeled \"\"missis…  │\n",
       "│ You are an AI assi…  │ Can we conclude from \"People practicing their instrumental and music skills while gathered …  │\n",
       "│ You are an AI assi…  │ Test for natural language inference.\\nPremise: \"A woman takes photographs at an aquarium wh…  │\n",
       "│          ·           │                                               ·                                               │\n",
       "│          ·           │                                               ·                                               │\n",
       "│          ·           │                                               ·                                               │\n",
       "│ You are an AI assi…  │ Denny asked: Premise: \"A right hand etching a figure into a block of wood with a metal tool…  │\n",
       "│ You are an AI assi…  │ It was a rowdy group, he even smashed his guitar at the end of the what?\\nOptions:\\n- nil\\n…  │\n",
       "│ You are an AI assi…  │ Early humans would do what on the walls of caves?\\nOptions:\\n- lay eggs\\n- draw pictures\\n-…  │\n",
       "│ You are an AI assi…  │ Is the following sentence factually correct?\\n\"Mark Knopfler received the Edison Award, the…  │\n",
       "│ You are an AI assi…  │ Given the rationale, provide a reasonable question and answer. Step-by-step reasoning proce…  │\n",
       "│ You are an AI assi…  │ Is the following a factual statement?\\n\"The Alps sit very high in the sky, as they are the …  │\n",
       "│ You are an AI assi…  │ Given the stream of consciousness rationale, provide a reasonable question and answer. Rati…  │\n",
       "│ You are an AI assi…  │ Plants are capable of making:\\nOptions:\\n- (A) Chemical energy\\n- (B) glucose\\n- (C) solar …  │\n",
       "│ You are an AI assi…  │ Where would you find trees that provide food?\\nOptions:\\n- yard\\n- state park\\n- market\\n- …  │\n",
       "│ You are an AI assi…  │ Give a stream of consciousness and then the final answer. Mark Gilbert McKinney, known prof…  │\n",
       "├──────────────────────┴───────────────────────────────────────────────────────────────────────────────────────────────┤\n",
       "│ ? rows (>9999 rows, 20 shown)                                                                              2 columns │\n",
       "└──────────────────────────────────────────────────────────────────────────────────────────────────────────────────────┘"
      ]
     },
     "execution_count": 7,
     "metadata": {},
     "output_type": "execute_result"
    }
   ],
   "source": [
    "import duckdb\n",
    "\n",
    "# directly query a Pandas DataFrame\n",
    "import pandas as pd\n",
    "duckdb.sql(\"SELECT system_prompt::STRING,question::STRING FROM pf order by id\")\n"
   ]
  },
  {
   "cell_type": "code",
   "execution_count": 16,
   "id": "5563067c",
   "metadata": {},
   "outputs": [],
   "source": [
    "\n"
   ]
  },
  {
   "cell_type": "code",
   "execution_count": 17,
   "id": "adc3b45d",
   "metadata": {},
   "outputs": [],
   "source": [
    "import duckdb\n",
    "import pandas as pd\n",
    "\n",
    "# Assuming df is your existing DataFrame\n",
    "\n",
    "# Define your regex pattern\n",
    "\n",
    "# Use DuckDB to apply the regex pattern on a column 'your_column_name' of your DataFrame\n",
    "# The following will create a new DataFrame with the results of the regex match\n",
    "df_result = duckdb.sql(sql_query)\n",
    "\n",
    "# The result is a new column 'regex_match' in df_result which contains the matches\n"
   ]
  },
  {
   "cell_type": "code",
   "execution_count": 18,
   "id": "2e822171",
   "metadata": {},
   "outputs": [
    {
     "data": {
      "text/plain": [
       "┌──────────────┬──────────────────────┬──────────────────────┬───────────────────────────────────────────┬─────────────┐\n",
       "│      id      │    system_prompt     │       question       │                 response                  │ regex_match │\n",
       "│   varchar    │       varchar        │       varchar        │                  varchar                  │  varchar[]  │\n",
       "├──────────────┼──────────────────────┼──────────────────────┼───────────────────────────────────────────┼─────────────┤\n",
       "│ t0.1791914   │ You are an AI assi…  │ Q:The exercise is …  │ True.                                     │ []          │\n",
       "│ flan.2203053 │ You are a helpful …  │ Sentence 1: There …  │ Yes, if the first sentence is true, the…  │ []          │\n",
       "│ flan.1943030 │ You are a helpful …  │ On his oak mantelp…  │ We cannot conclude that the sentence \"T…  │ []          │\n",
       "│ t0.870962    │ You are an AI assi…  │ Question: Read the…  │ The full name of the person whose versi…  │ []          │\n",
       "│ t0.314926    │ You are an AI assi…  │ I have a test wher…  │ The Rova compound remained largely clos…  │ []          │\n",
       "│ t0.1673421   │ You are an AI assi…  │ Answer the followi…  │ B. he wants to date Sondra.               │ []          │\n",
       "│ t0.1031199   │ You are an AI assi…  │ Given the question…  │ What is the main challenge faced by con…  │ []          │\n",
       "│ t0.1044051   │                      │ Here's a question …  │ \"Rocks\" is aligned with human common se…  │ []          │\n",
       "│ niv.350529   │ You are an AI assi…  │ Given an object an…  │ 0.                                        │ []          │\n",
       "│ t0.157371    │ You are an AI assi…  │ Q:I read this back…  │ Based on the information provided in th…  │ []          │\n",
       "│     ·        │          ·           │          ·           │                     ·                     │ ·           │\n",
       "│     ·        │          ·           │          ·           │                     ·                     │ ·           │\n",
       "│     ·        │          ·           │          ·           │                     ·                     │ ·           │\n",
       "│ t0.130326    │                      │ Jessica and Milly …  │ The number of animals is likely to incr…  │ [increase]  │\n",
       "│ flan.2287915 │ You are an AI assi…  │ Is it true that do…  │ Yes, it is true that non-alcoholic drin…  │ []          │\n",
       "│ t0.360507    │ You are an AI assi…  │ Question: Read the…  │ The correct option to answer the questi…  │ []          │\n",
       "│ flan.59912   │ You are a helpful …  │ Translate the foll…  │ Ca activist pentru drepturile omului în…  │ []          │\n",
       "│ t0.837446    │ You are an AI assi…  │ Given the followin…  │ The full name of the person who said Ky…  │ []          │\n",
       "│ niv.219912   │ You are an AI assi…  │ Teacher:In this ta…  │ Title: Lost Hubcap. \\n\\nJustification: …  │ []          │\n",
       "│ t0.561048    │ You are an AI assi…  │ Given the question…  │ The full name of the person whose recor…  │ []          │\n",
       "│ t0.515064    │ You are an AI assi…  │ Please answer the …  │ Yes, the main purpose of the experiment…  │ []          │\n",
       "│ t0.1498169   │ You are an AI assi…  │ Q:What is the answ…  │ The last name of the person whose monum…  │ []          │\n",
       "│ cot.14573    │ You are an AI assi…  │ Premise: \"Two wome…  │ Based on the given premise, it is not p…  │ []          │\n",
       "├──────────────┴──────────────────────┴──────────────────────┴───────────────────────────────────────────┴─────────────┤\n",
       "│ ? rows (>9999 rows, 20 shown)                                                                              5 columns │\n",
       "└──────────────────────────────────────────────────────────────────────────────────────────────────────────────────────┘"
      ]
     },
     "execution_count": 18,
     "metadata": {},
     "output_type": "execute_result"
    }
   ],
   "source": [
    "df_result"
   ]
  },
  {
   "cell_type": "code",
   "execution_count": null,
   "id": "3942f799",
   "metadata": {},
   "outputs": [],
   "source": []
  }
 ],
 "metadata": {
  "kernelspec": {
   "display_name": "Python 3 (ipykernel)",
   "language": "python",
   "name": "python3"
  },
  "language_info": {
   "codemirror_mode": {
    "name": "ipython",
    "version": 3
   },
   "file_extension": ".py",
   "mimetype": "text/x-python",
   "name": "python",
   "nbconvert_exporter": "python",
   "pygments_lexer": "ipython3",
   "version": "3.9.7"
  }
 },
 "nbformat": 4,
 "nbformat_minor": 5
}
